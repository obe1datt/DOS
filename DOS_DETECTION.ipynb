{
 "cells": [
  {
   "cell_type": "code",
   "execution_count": 1,
   "id": "cf1d778c",
   "metadata": {},
   "outputs": [],
   "source": [
    "import pandas as pd  \n",
    "from sklearn.preprocessing import StandardScaler\n",
    "from sklearn.preprocessing import LabelEncoder\n",
    "from sklearn import metrics\n",
    "from sklearn.naive_bayes import GaussianNB\n",
    "from sklearn.model_selection import train_test_split \n",
    "from sklearn.preprocessing import LabelEncoder\n",
    "import seaborn as sns\n",
    "import pandas as pd\n",
    "import numpy as np\n",
    "\n",
    "from sklearn.tree import DecisionTreeClassifier \n",
    "from sklearn import preprocessing\n",
    "from sklearn.naive_bayes import MultinomialNB\n",
    "import matplotlib.pyplot as plt\n",
    "from sklearn.ensemble import RandomForestClassifier\n",
    "from sklearn.linear_model import LogisticRegression\n"
   ]
  },
  {
   "cell_type": "code",
   "execution_count": 2,
   "id": "b03227d7",
   "metadata": {},
   "outputs": [
    {
     "data": {
      "text/html": [
       "<div>\n",
       "<style scoped>\n",
       "    .dataframe tbody tr th:only-of-type {\n",
       "        vertical-align: middle;\n",
       "    }\n",
       "\n",
       "    .dataframe tbody tr th {\n",
       "        vertical-align: top;\n",
       "    }\n",
       "\n",
       "    .dataframe thead th {\n",
       "        text-align: right;\n",
       "    }\n",
       "</style>\n",
       "<table border=\"1\" class=\"dataframe\">\n",
       "  <thead>\n",
       "    <tr style=\"text-align: right;\">\n",
       "      <th></th>\n",
       "      <th>Unnamed: 0</th>\n",
       "      <th>Protocol</th>\n",
       "      <th>Flow Duration</th>\n",
       "      <th>Total Fwd Packets</th>\n",
       "      <th>Total Backward Packets</th>\n",
       "      <th>Fwd Packets Length Total</th>\n",
       "      <th>Bwd Packets Length Total</th>\n",
       "      <th>Fwd Packet Length Max</th>\n",
       "      <th>Fwd Packet Length Min</th>\n",
       "      <th>Fwd Packet Length Mean</th>\n",
       "      <th>...</th>\n",
       "      <th>Fwd Seg Size Min</th>\n",
       "      <th>Active Mean</th>\n",
       "      <th>Active Std</th>\n",
       "      <th>Active Max</th>\n",
       "      <th>Active Min</th>\n",
       "      <th>Idle Mean</th>\n",
       "      <th>Idle Std</th>\n",
       "      <th>Idle Max</th>\n",
       "      <th>Idle Min</th>\n",
       "      <th>Class</th>\n",
       "    </tr>\n",
       "  </thead>\n",
       "  <tbody>\n",
       "    <tr>\n",
       "      <th>0</th>\n",
       "      <td>0</td>\n",
       "      <td>17</td>\n",
       "      <td>216631</td>\n",
       "      <td>6</td>\n",
       "      <td>0</td>\n",
       "      <td>2088</td>\n",
       "      <td>0</td>\n",
       "      <td>393</td>\n",
       "      <td>321</td>\n",
       "      <td>348.0</td>\n",
       "      <td>...</td>\n",
       "      <td>14</td>\n",
       "      <td>0.0</td>\n",
       "      <td>0.0</td>\n",
       "      <td>0</td>\n",
       "      <td>0</td>\n",
       "      <td>0.0</td>\n",
       "      <td>0.0</td>\n",
       "      <td>0</td>\n",
       "      <td>0</td>\n",
       "      <td>Attack</td>\n",
       "    </tr>\n",
       "    <tr>\n",
       "      <th>1</th>\n",
       "      <td>1</td>\n",
       "      <td>17</td>\n",
       "      <td>2</td>\n",
       "      <td>2</td>\n",
       "      <td>0</td>\n",
       "      <td>802</td>\n",
       "      <td>0</td>\n",
       "      <td>401</td>\n",
       "      <td>401</td>\n",
       "      <td>401.0</td>\n",
       "      <td>...</td>\n",
       "      <td>20</td>\n",
       "      <td>0.0</td>\n",
       "      <td>0.0</td>\n",
       "      <td>0</td>\n",
       "      <td>0</td>\n",
       "      <td>0.0</td>\n",
       "      <td>0.0</td>\n",
       "      <td>0</td>\n",
       "      <td>0</td>\n",
       "      <td>Attack</td>\n",
       "    </tr>\n",
       "    <tr>\n",
       "      <th>2</th>\n",
       "      <td>2</td>\n",
       "      <td>17</td>\n",
       "      <td>48</td>\n",
       "      <td>2</td>\n",
       "      <td>0</td>\n",
       "      <td>766</td>\n",
       "      <td>0</td>\n",
       "      <td>383</td>\n",
       "      <td>383</td>\n",
       "      <td>383.0</td>\n",
       "      <td>...</td>\n",
       "      <td>20</td>\n",
       "      <td>0.0</td>\n",
       "      <td>0.0</td>\n",
       "      <td>0</td>\n",
       "      <td>0</td>\n",
       "      <td>0.0</td>\n",
       "      <td>0.0</td>\n",
       "      <td>0</td>\n",
       "      <td>0</td>\n",
       "      <td>Attack</td>\n",
       "    </tr>\n",
       "    <tr>\n",
       "      <th>3</th>\n",
       "      <td>3</td>\n",
       "      <td>17</td>\n",
       "      <td>107319</td>\n",
       "      <td>4</td>\n",
       "      <td>0</td>\n",
       "      <td>1398</td>\n",
       "      <td>0</td>\n",
       "      <td>369</td>\n",
       "      <td>330</td>\n",
       "      <td>349.5</td>\n",
       "      <td>...</td>\n",
       "      <td>20</td>\n",
       "      <td>0.0</td>\n",
       "      <td>0.0</td>\n",
       "      <td>0</td>\n",
       "      <td>0</td>\n",
       "      <td>0.0</td>\n",
       "      <td>0.0</td>\n",
       "      <td>0</td>\n",
       "      <td>0</td>\n",
       "      <td>Attack</td>\n",
       "    </tr>\n",
       "    <tr>\n",
       "      <th>4</th>\n",
       "      <td>4</td>\n",
       "      <td>17</td>\n",
       "      <td>107271</td>\n",
       "      <td>4</td>\n",
       "      <td>0</td>\n",
       "      <td>1438</td>\n",
       "      <td>0</td>\n",
       "      <td>389</td>\n",
       "      <td>330</td>\n",
       "      <td>359.5</td>\n",
       "      <td>...</td>\n",
       "      <td>8</td>\n",
       "      <td>0.0</td>\n",
       "      <td>0.0</td>\n",
       "      <td>0</td>\n",
       "      <td>0</td>\n",
       "      <td>0.0</td>\n",
       "      <td>0.0</td>\n",
       "      <td>0</td>\n",
       "      <td>0</td>\n",
       "      <td>Attack</td>\n",
       "    </tr>\n",
       "  </tbody>\n",
       "</table>\n",
       "<p>5 rows × 67 columns</p>\n",
       "</div>"
      ],
      "text/plain": [
       "   Unnamed: 0  Protocol  Flow Duration  Total Fwd Packets  \\\n",
       "0           0        17         216631                  6   \n",
       "1           1        17              2                  2   \n",
       "2           2        17             48                  2   \n",
       "3           3        17         107319                  4   \n",
       "4           4        17         107271                  4   \n",
       "\n",
       "   Total Backward Packets  Fwd Packets Length Total  Bwd Packets Length Total  \\\n",
       "0                       0                      2088                         0   \n",
       "1                       0                       802                         0   \n",
       "2                       0                       766                         0   \n",
       "3                       0                      1398                         0   \n",
       "4                       0                      1438                         0   \n",
       "\n",
       "   Fwd Packet Length Max  Fwd Packet Length Min  Fwd Packet Length Mean  ...  \\\n",
       "0                    393                    321                   348.0  ...   \n",
       "1                    401                    401                   401.0  ...   \n",
       "2                    383                    383                   383.0  ...   \n",
       "3                    369                    330                   349.5  ...   \n",
       "4                    389                    330                   359.5  ...   \n",
       "\n",
       "   Fwd Seg Size Min  Active Mean  Active Std  Active Max  Active Min  \\\n",
       "0                14          0.0         0.0           0           0   \n",
       "1                20          0.0         0.0           0           0   \n",
       "2                20          0.0         0.0           0           0   \n",
       "3                20          0.0         0.0           0           0   \n",
       "4                 8          0.0         0.0           0           0   \n",
       "\n",
       "   Idle Mean  Idle Std  Idle Max  Idle Min   Class  \n",
       "0        0.0       0.0         0         0  Attack  \n",
       "1        0.0       0.0         0         0  Attack  \n",
       "2        0.0       0.0         0         0  Attack  \n",
       "3        0.0       0.0         0         0  Attack  \n",
       "4        0.0       0.0         0         0  Attack  \n",
       "\n",
       "[5 rows x 67 columns]"
      ]
     },
     "execution_count": 2,
     "metadata": {},
     "output_type": "execute_result"
    }
   ],
   "source": [
    "data=pd.read_csv(\"./cicddos2019_dataset_unbalance.csv\" )\n",
    "low_memory=False\n",
    "data.head()"
   ]
  },
  {
   "cell_type": "code",
   "execution_count": 3,
   "id": "0dee7ec9",
   "metadata": {},
   "outputs": [
    {
     "name": "stdout",
     "output_type": "stream",
     "text": [
      "Before Drop null values (431371, 67)\n",
      "After Drop null values (431371, 67)\n"
     ]
    }
   ],
   "source": [
    "mask = data.isnull().any(axis=1) # place of NaN and Infinty count\n",
    "#drop data that with null values  \n",
    "print(\"Before Drop null values\", data.shape)\n",
    "data =  data[~mask] \n",
    "#let Benign  = 0  and Bot =1 in label  \n",
    "print(\"After Drop null values\", data.shape)"
   ]
  },
  {
   "cell_type": "code",
   "execution_count": 4,
   "id": "427b6690",
   "metadata": {},
   "outputs": [],
   "source": [
    "data =  data.drop('Unnamed: 0',axis=1)"
   ]
  },
  {
   "cell_type": "code",
   "execution_count": 5,
   "id": "fc3691ac",
   "metadata": {},
   "outputs": [
    {
     "data": {
      "text/plain": [
       "(431371, 66)"
      ]
     },
     "execution_count": 5,
     "metadata": {},
     "output_type": "execute_result"
    }
   ],
   "source": [
    "data.shape"
   ]
  },
  {
   "cell_type": "code",
   "execution_count": 6,
   "id": "4e9caacd",
   "metadata": {},
   "outputs": [
    {
     "data": {
      "text/plain": [
       "(431371, 66)"
      ]
     },
     "execution_count": 6,
     "metadata": {},
     "output_type": "execute_result"
    }
   ],
   "source": [
    "#Remove Duplicate\n",
    "data.drop_duplicates()\n",
    "data.shape"
   ]
  },
  {
   "cell_type": "code",
   "execution_count": 7,
   "id": "8d4667de",
   "metadata": {},
   "outputs": [
    {
     "name": "stdout",
     "output_type": "stream",
     "text": [
      "<class 'pandas.core.frame.DataFrame'>\n",
      "Int64Index: 431371 entries, 0 to 431370\n",
      "Data columns (total 66 columns):\n",
      " #   Column                    Non-Null Count   Dtype  \n",
      "---  ------                    --------------   -----  \n",
      " 0   Protocol                  431371 non-null  int64  \n",
      " 1   Flow Duration             431371 non-null  int64  \n",
      " 2   Total Fwd Packets         431371 non-null  int64  \n",
      " 3   Total Backward Packets    431371 non-null  int64  \n",
      " 4   Fwd Packets Length Total  431371 non-null  int64  \n",
      " 5   Bwd Packets Length Total  431371 non-null  int64  \n",
      " 6   Fwd Packet Length Max     431371 non-null  int64  \n",
      " 7   Fwd Packet Length Min     431371 non-null  int64  \n",
      " 8   Fwd Packet Length Mean    431371 non-null  float64\n",
      " 9   Fwd Packet Length Std     431371 non-null  float64\n",
      " 10  Bwd Packet Length Max     431371 non-null  int64  \n",
      " 11  Bwd Packet Length Min     431371 non-null  int64  \n",
      " 12  Bwd Packet Length Mean    431371 non-null  float64\n",
      " 13  Bwd Packet Length Std     431371 non-null  float64\n",
      " 14  Flow Bytes/s              431371 non-null  float64\n",
      " 15  Flow Packets/s            431371 non-null  float64\n",
      " 16  Flow IAT Mean             431371 non-null  float64\n",
      " 17  Flow IAT Std              431371 non-null  float64\n",
      " 18  Flow IAT Max              431371 non-null  int64  \n",
      " 19  Flow IAT Min              431371 non-null  int64  \n",
      " 20  Fwd IAT Total             431371 non-null  int64  \n",
      " 21  Fwd IAT Mean              431371 non-null  float64\n",
      " 22  Fwd IAT Std               431371 non-null  float64\n",
      " 23  Fwd IAT Max               431371 non-null  int64  \n",
      " 24  Fwd IAT Min               431371 non-null  int64  \n",
      " 25  Bwd IAT Total             431371 non-null  int64  \n",
      " 26  Bwd IAT Mean              431371 non-null  float64\n",
      " 27  Bwd IAT Std               431371 non-null  float64\n",
      " 28  Bwd IAT Max               431371 non-null  int64  \n",
      " 29  Bwd IAT Min               431371 non-null  int64  \n",
      " 30  Fwd PSH Flags             431371 non-null  int64  \n",
      " 31  Fwd Header Length         431371 non-null  int64  \n",
      " 32  Bwd Header Length         431371 non-null  int64  \n",
      " 33  Fwd Packets/s             431371 non-null  float64\n",
      " 34  Bwd Packets/s             431371 non-null  float64\n",
      " 35  Packet Length Min         431371 non-null  int64  \n",
      " 36  Packet Length Max         431371 non-null  int64  \n",
      " 37  Packet Length Mean        431371 non-null  float64\n",
      " 38  Packet Length Std         431371 non-null  float64\n",
      " 39  Packet Length Variance    431371 non-null  float64\n",
      " 40  SYN Flag Count            431371 non-null  int64  \n",
      " 41  RST Flag Count            431371 non-null  int64  \n",
      " 42  ACK Flag Count            431371 non-null  int64  \n",
      " 43  URG Flag Count            431371 non-null  int64  \n",
      " 44  CWE Flag Count            431371 non-null  int64  \n",
      " 45  Down/Up Ratio             431371 non-null  int64  \n",
      " 46  Avg Packet Size           431371 non-null  float64\n",
      " 47  Avg Fwd Segment Size      431371 non-null  float64\n",
      " 48  Avg Bwd Segment Size      431371 non-null  float64\n",
      " 49  Subflow Fwd Packets       431371 non-null  int64  \n",
      " 50  Subflow Fwd Bytes         431371 non-null  int64  \n",
      " 51  Subflow Bwd Packets       431371 non-null  int64  \n",
      " 52  Subflow Bwd Bytes         431371 non-null  int64  \n",
      " 53  Init Fwd Win Bytes        431371 non-null  int64  \n",
      " 54  Init Bwd Win Bytes        431371 non-null  int64  \n",
      " 55  Fwd Act Data Packets      431371 non-null  int64  \n",
      " 56  Fwd Seg Size Min          431371 non-null  int64  \n",
      " 57  Active Mean               431371 non-null  float64\n",
      " 58  Active Std                431371 non-null  float64\n",
      " 59  Active Max                431371 non-null  int64  \n",
      " 60  Active Min                431371 non-null  int64  \n",
      " 61  Idle Mean                 431371 non-null  float64\n",
      " 62  Idle Std                  431371 non-null  float64\n",
      " 63  Idle Max                  431371 non-null  int64  \n",
      " 64  Idle Min                  431371 non-null  int64  \n",
      " 65  Class                     431371 non-null  object \n",
      "dtypes: float64(24), int64(41), object(1)\n",
      "memory usage: 220.5+ MB\n"
     ]
    }
   ],
   "source": [
    "data.info()"
   ]
  },
  {
   "cell_type": "code",
   "execution_count": 8,
   "id": "9efd33fe",
   "metadata": {},
   "outputs": [
    {
     "data": {
      "text/plain": [
       "array([17,  6,  0], dtype=int64)"
      ]
     },
     "execution_count": 8,
     "metadata": {},
     "output_type": "execute_result"
    }
   ],
   "source": [
    "data['Protocol'].unique()"
   ]
  },
  {
   "cell_type": "code",
   "execution_count": 9,
   "id": "040d9a37",
   "metadata": {},
   "outputs": [
    {
     "data": {
      "text/plain": [
       "(431371, 66)"
      ]
     },
     "execution_count": 9,
     "metadata": {},
     "output_type": "execute_result"
    }
   ],
   "source": [
    "data.shape\n"
   ]
  },
  {
   "cell_type": "code",
   "execution_count": 10,
   "id": "6e39aa59",
   "metadata": {},
   "outputs": [
    {
     "data": {
      "text/plain": [
       "array([2, 1, 0], dtype=int64)"
      ]
     },
     "execution_count": 10,
     "metadata": {},
     "output_type": "execute_result"
    }
   ],
   "source": [
    "\n",
    "labelencoder = LabelEncoder()\n",
    "data['Protocol'] = labelencoder.fit_transform(data['Protocol'])\n",
    "data['Protocol'].unique()"
   ]
  },
  {
   "cell_type": "code",
   "execution_count": 11,
   "id": "4aa984a0",
   "metadata": {},
   "outputs": [
    {
     "data": {
      "text/plain": [
       "(431371, 66)"
      ]
     },
     "execution_count": 11,
     "metadata": {},
     "output_type": "execute_result"
    }
   ],
   "source": [
    "data.shape"
   ]
  },
  {
   "cell_type": "code",
   "execution_count": 12,
   "id": "eb7f3132",
   "metadata": {},
   "outputs": [
    {
     "data": {
      "text/plain": [
       "array([216631,      2,     48, ..., 337766,  47709, 322010], dtype=int64)"
      ]
     },
     "execution_count": 12,
     "metadata": {},
     "output_type": "execute_result"
    }
   ],
   "source": [
    "data['Flow Duration'].unique()"
   ]
  },
  {
   "cell_type": "code",
   "execution_count": 13,
   "id": "6fbdecb6",
   "metadata": {},
   "outputs": [
    {
     "data": {
      "text/plain": [
       "array([0, 1])"
      ]
     },
     "execution_count": 13,
     "metadata": {},
     "output_type": "execute_result"
    }
   ],
   "source": [
    "\n",
    "labelencoder = LabelEncoder()\n",
    "data['Class'] = labelencoder.fit_transform(data['Class'])\n",
    "data['Class'].unique()"
   ]
  },
  {
   "cell_type": "code",
   "execution_count": 14,
   "id": "e304a713",
   "metadata": {},
   "outputs": [
    {
     "data": {
      "text/plain": [
       "array([2, 1, 0], dtype=int64)"
      ]
     },
     "execution_count": 14,
     "metadata": {},
     "output_type": "execute_result"
    }
   ],
   "source": [
    "labelencoder = LabelEncoder()\n",
    "data['Protocol'] = labelencoder.fit_transform(data['Protocol'])\n",
    "data['Protocol'].unique()"
   ]
  },
  {
   "cell_type": "code",
   "execution_count": 15,
   "id": "180ac273",
   "metadata": {},
   "outputs": [],
   "source": [
    "col_for_not_nor = ['Fwd PSH Flags','SYN Flag Count', \n",
    "'RST Flag Count', 'Protocol_0', 'Protocol_1', 'Protocol_2',\n",
    "'ACK Flag Count', 'URG Flag Count', 'CWE Flag Count']"
   ]
  },
  {
   "cell_type": "code",
   "execution_count": 16,
   "id": "5f26b19b",
   "metadata": {},
   "outputs": [
    {
     "data": {
      "text/plain": [
       "['Protocol',\n",
       " 'Flow Duration',\n",
       " 'Total Fwd Packets',\n",
       " 'Total Backward Packets',\n",
       " 'Fwd Packets Length Total',\n",
       " 'Bwd Packets Length Total',\n",
       " 'Fwd Packet Length Max',\n",
       " 'Fwd Packet Length Min',\n",
       " 'Fwd Packet Length Mean',\n",
       " 'Fwd Packet Length Std',\n",
       " 'Bwd Packet Length Max',\n",
       " 'Bwd Packet Length Min',\n",
       " 'Bwd Packet Length Mean',\n",
       " 'Bwd Packet Length Std',\n",
       " 'Flow Bytes/s',\n",
       " 'Flow Packets/s',\n",
       " 'Flow IAT Mean',\n",
       " 'Flow IAT Std',\n",
       " 'Flow IAT Max',\n",
       " 'Flow IAT Min',\n",
       " 'Fwd IAT Total',\n",
       " 'Fwd IAT Mean',\n",
       " 'Fwd IAT Std',\n",
       " 'Fwd IAT Max',\n",
       " 'Fwd IAT Min',\n",
       " 'Bwd IAT Total',\n",
       " 'Bwd IAT Mean',\n",
       " 'Bwd IAT Std',\n",
       " 'Bwd IAT Max',\n",
       " 'Bwd IAT Min',\n",
       " 'Fwd Header Length',\n",
       " 'Bwd Header Length',\n",
       " 'Fwd Packets/s',\n",
       " 'Bwd Packets/s',\n",
       " 'Packet Length Min',\n",
       " 'Packet Length Max',\n",
       " 'Packet Length Mean',\n",
       " 'Packet Length Std',\n",
       " 'Packet Length Variance',\n",
       " 'Down/Up Ratio',\n",
       " 'Avg Packet Size',\n",
       " 'Avg Fwd Segment Size',\n",
       " 'Avg Bwd Segment Size',\n",
       " 'Subflow Fwd Packets',\n",
       " 'Subflow Fwd Bytes',\n",
       " 'Subflow Bwd Packets',\n",
       " 'Subflow Bwd Bytes',\n",
       " 'Init Fwd Win Bytes',\n",
       " 'Init Bwd Win Bytes',\n",
       " 'Fwd Act Data Packets',\n",
       " 'Fwd Seg Size Min',\n",
       " 'Active Mean',\n",
       " 'Active Std',\n",
       " 'Active Max',\n",
       " 'Active Min',\n",
       " 'Idle Mean',\n",
       " 'Idle Std',\n",
       " 'Idle Max',\n",
       " 'Idle Min',\n",
       " 'Class']"
      ]
     },
     "execution_count": 16,
     "metadata": {},
     "output_type": "execute_result"
    }
   ],
   "source": [
    "col_for_nor = [] \n",
    "\n",
    "for col in data.columns:\n",
    "    if col not in col_for_not_nor:\n",
    "         col_for_nor.append(col)\n",
    "    else:\n",
    "        continue \n",
    "col_for_nor        "
   ]
  },
  {
   "cell_type": "code",
   "execution_count": 17,
   "id": "c4e8697b",
   "metadata": {},
   "outputs": [],
   "source": [
    "inputs = data.drop('Class', axis='columns')"
   ]
  },
  {
   "cell_type": "code",
   "execution_count": 18,
   "id": "8c300d51",
   "metadata": {},
   "outputs": [
    {
     "data": {
      "text/html": [
       "<div>\n",
       "<style scoped>\n",
       "    .dataframe tbody tr th:only-of-type {\n",
       "        vertical-align: middle;\n",
       "    }\n",
       "\n",
       "    .dataframe tbody tr th {\n",
       "        vertical-align: top;\n",
       "    }\n",
       "\n",
       "    .dataframe thead th {\n",
       "        text-align: right;\n",
       "    }\n",
       "</style>\n",
       "<table border=\"1\" class=\"dataframe\">\n",
       "  <thead>\n",
       "    <tr style=\"text-align: right;\">\n",
       "      <th></th>\n",
       "      <th>Protocol</th>\n",
       "      <th>Flow Duration</th>\n",
       "      <th>Total Fwd Packets</th>\n",
       "      <th>Total Backward Packets</th>\n",
       "      <th>Fwd Packets Length Total</th>\n",
       "      <th>Bwd Packets Length Total</th>\n",
       "      <th>Fwd Packet Length Max</th>\n",
       "      <th>Fwd Packet Length Min</th>\n",
       "      <th>Fwd Packet Length Mean</th>\n",
       "      <th>Fwd Packet Length Std</th>\n",
       "      <th>...</th>\n",
       "      <th>Fwd Seg Size Min</th>\n",
       "      <th>Active Mean</th>\n",
       "      <th>Active Std</th>\n",
       "      <th>Active Max</th>\n",
       "      <th>Active Min</th>\n",
       "      <th>Idle Mean</th>\n",
       "      <th>Idle Std</th>\n",
       "      <th>Idle Max</th>\n",
       "      <th>Idle Min</th>\n",
       "      <th>Class</th>\n",
       "    </tr>\n",
       "  </thead>\n",
       "  <tbody>\n",
       "    <tr>\n",
       "      <th>0</th>\n",
       "      <td>1.0</td>\n",
       "      <td>1.805269e-03</td>\n",
       "      <td>0.000058</td>\n",
       "      <td>0.0</td>\n",
       "      <td>0.000137</td>\n",
       "      <td>0.0</td>\n",
       "      <td>0.012235</td>\n",
       "      <td>0.150634</td>\n",
       "      <td>0.115412</td>\n",
       "      <td>0.015795</td>\n",
       "      <td>...</td>\n",
       "      <td>0.954428</td>\n",
       "      <td>0.0</td>\n",
       "      <td>0.0</td>\n",
       "      <td>0.0</td>\n",
       "      <td>0.0</td>\n",
       "      <td>0.0</td>\n",
       "      <td>0.0</td>\n",
       "      <td>0.0</td>\n",
       "      <td>0.0</td>\n",
       "      <td>0.0</td>\n",
       "    </tr>\n",
       "    <tr>\n",
       "      <th>1</th>\n",
       "      <td>1.0</td>\n",
       "      <td>8.333421e-09</td>\n",
       "      <td>0.000012</td>\n",
       "      <td>0.0</td>\n",
       "      <td>0.000053</td>\n",
       "      <td>0.0</td>\n",
       "      <td>0.012484</td>\n",
       "      <td>0.188175</td>\n",
       "      <td>0.132989</td>\n",
       "      <td>0.000000</td>\n",
       "      <td>...</td>\n",
       "      <td>0.954428</td>\n",
       "      <td>0.0</td>\n",
       "      <td>0.0</td>\n",
       "      <td>0.0</td>\n",
       "      <td>0.0</td>\n",
       "      <td>0.0</td>\n",
       "      <td>0.0</td>\n",
       "      <td>0.0</td>\n",
       "      <td>0.0</td>\n",
       "      <td>0.0</td>\n",
       "    </tr>\n",
       "    <tr>\n",
       "      <th>2</th>\n",
       "      <td>1.0</td>\n",
       "      <td>3.916708e-07</td>\n",
       "      <td>0.000012</td>\n",
       "      <td>0.0</td>\n",
       "      <td>0.000050</td>\n",
       "      <td>0.0</td>\n",
       "      <td>0.011924</td>\n",
       "      <td>0.179728</td>\n",
       "      <td>0.127019</td>\n",
       "      <td>0.000000</td>\n",
       "      <td>...</td>\n",
       "      <td>0.954428</td>\n",
       "      <td>0.0</td>\n",
       "      <td>0.0</td>\n",
       "      <td>0.0</td>\n",
       "      <td>0.0</td>\n",
       "      <td>0.0</td>\n",
       "      <td>0.0</td>\n",
       "      <td>0.0</td>\n",
       "      <td>0.0</td>\n",
       "      <td>0.0</td>\n",
       "    </tr>\n",
       "    <tr>\n",
       "      <th>3</th>\n",
       "      <td>1.0</td>\n",
       "      <td>8.943260e-04</td>\n",
       "      <td>0.000035</td>\n",
       "      <td>0.0</td>\n",
       "      <td>0.000092</td>\n",
       "      <td>0.0</td>\n",
       "      <td>0.011488</td>\n",
       "      <td>0.154857</td>\n",
       "      <td>0.115909</td>\n",
       "      <td>0.010136</td>\n",
       "      <td>...</td>\n",
       "      <td>0.954428</td>\n",
       "      <td>0.0</td>\n",
       "      <td>0.0</td>\n",
       "      <td>0.0</td>\n",
       "      <td>0.0</td>\n",
       "      <td>0.0</td>\n",
       "      <td>0.0</td>\n",
       "      <td>0.0</td>\n",
       "      <td>0.0</td>\n",
       "      <td>0.0</td>\n",
       "    </tr>\n",
       "    <tr>\n",
       "      <th>4</th>\n",
       "      <td>1.0</td>\n",
       "      <td>8.939260e-04</td>\n",
       "      <td>0.000035</td>\n",
       "      <td>0.0</td>\n",
       "      <td>0.000094</td>\n",
       "      <td>0.0</td>\n",
       "      <td>0.012111</td>\n",
       "      <td>0.154857</td>\n",
       "      <td>0.119226</td>\n",
       "      <td>0.015333</td>\n",
       "      <td>...</td>\n",
       "      <td>0.954428</td>\n",
       "      <td>0.0</td>\n",
       "      <td>0.0</td>\n",
       "      <td>0.0</td>\n",
       "      <td>0.0</td>\n",
       "      <td>0.0</td>\n",
       "      <td>0.0</td>\n",
       "      <td>0.0</td>\n",
       "      <td>0.0</td>\n",
       "      <td>0.0</td>\n",
       "    </tr>\n",
       "  </tbody>\n",
       "</table>\n",
       "<p>5 rows × 66 columns</p>\n",
       "</div>"
      ],
      "text/plain": [
       "   Protocol  Flow Duration  Total Fwd Packets  Total Backward Packets  \\\n",
       "0       1.0   1.805269e-03           0.000058                     0.0   \n",
       "1       1.0   8.333421e-09           0.000012                     0.0   \n",
       "2       1.0   3.916708e-07           0.000012                     0.0   \n",
       "3       1.0   8.943260e-04           0.000035                     0.0   \n",
       "4       1.0   8.939260e-04           0.000035                     0.0   \n",
       "\n",
       "   Fwd Packets Length Total  Bwd Packets Length Total  Fwd Packet Length Max  \\\n",
       "0                  0.000137                       0.0               0.012235   \n",
       "1                  0.000053                       0.0               0.012484   \n",
       "2                  0.000050                       0.0               0.011924   \n",
       "3                  0.000092                       0.0               0.011488   \n",
       "4                  0.000094                       0.0               0.012111   \n",
       "\n",
       "   Fwd Packet Length Min  Fwd Packet Length Mean  Fwd Packet Length Std  ...  \\\n",
       "0               0.150634                0.115412               0.015795  ...   \n",
       "1               0.188175                0.132989               0.000000  ...   \n",
       "2               0.179728                0.127019               0.000000  ...   \n",
       "3               0.154857                0.115909               0.010136  ...   \n",
       "4               0.154857                0.119226               0.015333  ...   \n",
       "\n",
       "   Fwd Seg Size Min  Active Mean  Active Std  Active Max  Active Min  \\\n",
       "0          0.954428          0.0         0.0         0.0         0.0   \n",
       "1          0.954428          0.0         0.0         0.0         0.0   \n",
       "2          0.954428          0.0         0.0         0.0         0.0   \n",
       "3          0.954428          0.0         0.0         0.0         0.0   \n",
       "4          0.954428          0.0         0.0         0.0         0.0   \n",
       "\n",
       "   Idle Mean  Idle Std  Idle Max  Idle Min  Class  \n",
       "0        0.0       0.0       0.0       0.0    0.0  \n",
       "1        0.0       0.0       0.0       0.0    0.0  \n",
       "2        0.0       0.0       0.0       0.0    0.0  \n",
       "3        0.0       0.0       0.0       0.0    0.0  \n",
       "4        0.0       0.0       0.0       0.0    0.0  \n",
       "\n",
       "[5 rows x 66 columns]"
      ]
     },
     "execution_count": 18,
     "metadata": {},
     "output_type": "execute_result"
    }
   ],
   "source": [
    "# example of a normalization\n",
    "from numpy import asarray\n",
    "from sklearn.preprocessing import MinMaxScaler\n",
    "scaler = MinMaxScaler()\n",
    "data[col_for_nor] = scaler.fit_transform(data[col_for_nor])\n",
    "\n",
    "\n",
    "data.head()"
   ]
  },
  {
   "cell_type": "code",
   "execution_count": 19,
   "id": "036cc898",
   "metadata": {},
   "outputs": [
    {
     "name": "stdout",
     "output_type": "stream",
     "text": [
      "Before Drop null values (431371, 66)\n",
      "After Drop null values (431371, 66)\n"
     ]
    }
   ],
   "source": [
    "mask = data.isnull().any(axis=1) # place of NaN and Infinty count\n",
    "#drop data that with null values  \n",
    "print(\"Before Drop null values\", data.shape)\n",
    "data =  data[~mask] \n",
    "#let Benign  = 0  and Bot =1 in label  \n",
    "print(\"After Drop null values\", data.shape)"
   ]
  },
  {
   "cell_type": "code",
   "execution_count": 20,
   "id": "a434e561",
   "metadata": {},
   "outputs": [],
   "source": [
    "# Predictive Machine Learning\n",
    "x= inputs\n",
    "y = data['Class']\n"
   ]
  },
  {
   "cell_type": "code",
   "execution_count": 21,
   "id": "2e02307e",
   "metadata": {},
   "outputs": [],
   "source": [
    "from sklearn.model_selection import train_test_split\n",
    "X_train, X_test, y_train, y_test = train_test_split(x,y, test_size=0.30, random_state=200)"
   ]
  },
  {
   "cell_type": "code",
   "execution_count": 22,
   "id": "efdf0d38",
   "metadata": {},
   "outputs": [
    {
     "data": {
      "text/plain": [
       "((301959, 65), (129412, 65), (301959,), (129412,))"
      ]
     },
     "execution_count": 22,
     "metadata": {},
     "output_type": "execute_result"
    }
   ],
   "source": [
    "X_train.shape, X_test.shape, y_train.shape, y_test.shape "
   ]
  },
  {
   "cell_type": "code",
   "execution_count": 23,
   "id": "5ad76cb4",
   "metadata": {},
   "outputs": [
    {
     "name": "stdout",
     "output_type": "stream",
     "text": [
      "0.0    233467\n",
      "1.0     68492\n",
      "Name: Class, dtype: int64\n"
     ]
    }
   ],
   "source": [
    "print(y_train.value_counts())"
   ]
  },
  {
   "cell_type": "code",
   "execution_count": 24,
   "id": "6a701394",
   "metadata": {},
   "outputs": [],
   "source": [
    "# Oversamping "
   ]
  },
  {
   "cell_type": "code",
   "execution_count": 25,
   "id": "770c19f9",
   "metadata": {},
   "outputs": [
    {
     "data": {
      "image/png": "[encoded data removed]",
      "text/plain": [
       "<Figure size 1000x600 with 1 Axes>"
      ]
     },
     "metadata": {},
     "output_type": "display_data"
    }
   ],
   "source": [
    "import pandas as pd\n",
    "import matplotlib.pyplot as plt\n",
    "\n",
    "# Count the occurrences of each label\n",
    "label_counts = y_train.value_counts()\n",
    "\n",
    "# Create a bar plot to visualize the label counts\n",
    "plt.figure(figsize=(10, 6))\n",
    "label_counts.plot(kind='bar')\n",
    "plt.title('Comparison of Label Column')\n",
    "plt.xlabel('Class')\n",
    "plt.ylabel('Count')\n",
    "plt.show()"
   ]
  },
  {
   "cell_type": "code",
   "execution_count": 26,
   "id": "9851873e",
   "metadata": {},
   "outputs": [
    {
     "name": "stdout",
     "output_type": "stream",
     "text": [
      "Resampled dataset shape Counter({0.0: 68492, 1.0: 68492})\n"
     ]
    }
   ],
   "source": [
    "from imblearn.under_sampling import NearMiss\n",
    "from collections import Counter\n",
    "nm = NearMiss()\n",
    "\n",
    "X_train, y_train = nm.fit_resample(X_train, y_train)\n",
    "print('Resampled dataset shape %s' % Counter(y_train))"
   ]
  },
  {
   "cell_type": "code",
   "execution_count": 27,
   "id": "ecf66527",
   "metadata": {},
   "outputs": [
    {
     "data": {
      "image/png": "[encoded data removed]",
      "text/plain": [
       "<Figure size 1000x600 with 1 Axes>"
      ]
     },
     "metadata": {},
     "output_type": "display_data"
    }
   ],
   "source": [
    "import pandas as pd\n",
    "import matplotlib.pyplot as plt\n",
    "\n",
    "# Count the occurrences of each label\n",
    "label_counts = y_train.value_counts()\n",
    "\n",
    "# Create a bar plot to visualize the label counts\n",
    "plt.figure(figsize=(10, 6))\n",
    "label_counts.plot(kind='bar')\n",
    "plt.title('Comparison of Label Column')\n",
    "plt.xlabel('Class')\n",
    "plt.ylabel('Count')\n",
    "plt.show()"
   ]
  },
  {
   "cell_type": "code",
   "execution_count": 28,
   "id": "79988059",
   "metadata": {},
   "outputs": [
    {
     "data": {
      "image/png": "[encoded data removed]",
      "text/plain": [
       "<Figure size 1000x500 with 1 Axes>"
      ]
     },
     "metadata": {},
     "output_type": "display_data"
    }
   ],
   "source": [
    "import numpy as np\n",
    "import sklearn as sk \n",
    "from xgboost import XGBClassifier\n",
    "from sklearn.ensemble import RandomForestClassifier\n",
    "forest = RandomForestClassifier(n_estimators=50, random_state=100,max_depth=15,criterion='entropy')\n",
    "forest.fit(X_train, y_train)\n",
    "\n",
    "importances = forest.feature_importances_\n",
    "std = np.std([tree.feature_importances_ for tree in forest.estimators_],\n",
    "                 axis=0)\n",
    "indices = np.argsort(importances)[::-1]\n",
    "refclasscol=list(data.columns.values)\n",
    "impor_bars = pd.DataFrame({'Features':refclasscol[0:20],'importance':importances[0:20]})\n",
    "\n",
    "\n",
    "impor_bars = impor_bars.sort_values('importance',ascending=False).set_index('Features')\n",
    "plt.rcParams['figure.figsize'] = (10, 5)\n",
    "impor_bars.plot.bar();"
   ]
  },
  {
   "cell_type": "code",
   "execution_count": 29,
   "id": "828368c4",
   "metadata": {},
   "outputs": [
    {
     "name": "stdout",
     "output_type": "stream",
     "text": [
      "Thresh=0.000000, n=65, Accuracy: 86.65%\n",
      "Thresh=0.000000, n=65, Accuracy: 86.65%\n",
      "Thresh=0.000004, n=63, Accuracy: 84.82%\n",
      "Thresh=0.000033, n=62, Accuracy: 80.37%\n",
      "Thresh=0.000036, n=61, Accuracy: 91.91%\n",
      "Thresh=0.000068, n=60, Accuracy: 86.65%\n",
      "Thresh=0.000128, n=59, Accuracy: 89.13%\n",
      "Thresh=0.000129, n=58, Accuracy: 90.23%\n",
      "Thresh=0.000150, n=57, Accuracy: 87.20%\n",
      "Thresh=0.000173, n=56, Accuracy: 86.86%\n",
      "Thresh=0.000200, n=55, Accuracy: 77.01%\n",
      "Thresh=0.000219, n=54, Accuracy: 88.08%\n",
      "Thresh=0.000224, n=53, Accuracy: 91.13%\n",
      "Thresh=0.000242, n=52, Accuracy: 85.82%\n",
      "Thresh=0.000309, n=51, Accuracy: 78.69%\n",
      "Thresh=0.000327, n=50, Accuracy: 90.94%\n",
      "Thresh=0.000720, n=49, Accuracy: 93.31%\n",
      "Thresh=0.000767, n=48, Accuracy: 86.94%\n",
      "Thresh=0.001090, n=47, Accuracy: 80.57%\n",
      "Thresh=0.001579, n=46, Accuracy: 87.85%\n",
      "Thresh=0.001727, n=45, Accuracy: 93.26%\n",
      "Thresh=0.001744, n=44, Accuracy: 79.79%\n",
      "Thresh=0.002158, n=43, Accuracy: 92.15%\n",
      "Thresh=0.002233, n=42, Accuracy: 89.36%\n",
      "Thresh=0.002475, n=41, Accuracy: 84.70%\n",
      "Thresh=0.002907, n=40, Accuracy: 88.38%\n",
      "Thresh=0.003784, n=39, Accuracy: 92.04%\n",
      "Thresh=0.003857, n=38, Accuracy: 90.90%\n",
      "Thresh=0.004475, n=37, Accuracy: 93.00%\n",
      "Thresh=0.005053, n=36, Accuracy: 92.94%\n",
      "Thresh=0.005154, n=35, Accuracy: 87.97%\n",
      "Thresh=0.005242, n=34, Accuracy: 85.75%\n",
      "Thresh=0.005283, n=33, Accuracy: 88.77%\n",
      "Thresh=0.005296, n=32, Accuracy: 92.79%\n",
      "Thresh=0.005618, n=31, Accuracy: 93.01%\n",
      "Thresh=0.005730, n=30, Accuracy: 89.47%\n",
      "Thresh=0.005954, n=29, Accuracy: 90.92%\n",
      "Thresh=0.006316, n=28, Accuracy: 92.61%\n",
      "Thresh=0.007599, n=27, Accuracy: 90.01%\n",
      "Thresh=0.009154, n=26, Accuracy: 88.44%\n",
      "Thresh=0.010170, n=25, Accuracy: 87.71%\n",
      "Thresh=0.012694, n=24, Accuracy: 91.52%\n",
      "Thresh=0.012972, n=23, Accuracy: 89.15%\n",
      "Thresh=0.013046, n=22, Accuracy: 93.04%\n",
      "Thresh=0.014038, n=21, Accuracy: 98.92%\n",
      "Thresh=0.014598, n=20, Accuracy: 93.06%\n",
      "Thresh=0.019126, n=19, Accuracy: 93.02%\n",
      "Thresh=0.020049, n=18, Accuracy: 94.34%\n",
      "Thresh=0.020102, n=17, Accuracy: 94.38%\n",
      "Thresh=0.022390, n=16, Accuracy: 94.31%\n",
      "Thresh=0.023530, n=15, Accuracy: 94.58%\n",
      "Thresh=0.026054, n=14, Accuracy: 99.52%\n",
      "Thresh=0.026652, n=13, Accuracy: 94.62%\n",
      "Thresh=0.028828, n=12, Accuracy: 90.99%\n",
      "Thresh=0.031612, n=11, Accuracy: 93.94%\n",
      "Thresh=0.034284, n=10, Accuracy: 94.68%\n",
      "Thresh=0.034764, n=9, Accuracy: 94.56%\n",
      "Thresh=0.038621, n=8, Accuracy: 91.29%\n",
      "Thresh=0.040855, n=7, Accuracy: 91.50%\n",
      "Thresh=0.045460, n=6, Accuracy: 87.66%\n",
      "Thresh=0.050239, n=5, Accuracy: 88.41%\n",
      "Thresh=0.057791, n=4, Accuracy: 94.46%\n",
      "Thresh=0.072274, n=3, Accuracy: 83.61%\n",
      "Thresh=0.077843, n=2, Accuracy: 83.64%\n",
      "Thresh=0.153851, n=1, Accuracy: 83.46%\n"
     ]
    }
   ],
   "source": [
    "from sklearn.metrics import accuracy_score, f1_score, recall_score, precision_score\n",
    "from numpy import sort\n",
    "from sklearn.feature_selection import SelectFromModel\n",
    "thresholds = sort(forest.feature_importances_)\n",
    "for thresh in thresholds:\n",
    " # select features using threshold\n",
    " selection = SelectFromModel(forest, threshold=thresh, prefit=False)\n",
    " select_X_train = selection.fit_transform(X_train,y_train)\n",
    " # train model\n",
    " selection_model = RandomForestClassifier(n_estimators=50, random_state=200,max_depth=15,criterion='entropy')\n",
    " selection_model.fit(select_X_train, y_train)\n",
    " # eval model\n",
    " select_X_test = selection.transform(X_test)\n",
    " predictions = selection_model.predict(select_X_test)\n",
    " accuracy = accuracy_score(y_test, predictions)\n",
    " print(\"Thresh=%f, n=%d, Accuracy: %.2f%%\" % (thresh, select_X_train.shape[1], accuracy*100.0))"
   ]
  },
  {
   "cell_type": "code",
   "execution_count": 30,
   "id": "763a72c7",
   "metadata": {},
   "outputs": [],
   "source": [
    "sele = SelectFromModel(forest, threshold=0.026054, prefit=False)\n",
    "X_train = sele.fit_transform(X_train,y_train)\n",
    "X_test = sele.transform(X_test)"
   ]
  },
  {
   "cell_type": "code",
   "execution_count": 31,
   "id": "16590172",
   "metadata": {},
   "outputs": [
    {
     "name": "stdout",
     "output_type": "stream",
     "text": [
      "Index(['Total Backward Packets', 'Fwd Packets Length Total',\n",
      "       'Fwd Packet Length Max', 'Fwd Packet Length Min',\n",
      "       'Fwd Packet Length Mean', 'Bwd Header Length', 'Bwd Packets/s',\n",
      "       'Packet Length Min', 'Packet Length Max', 'Packet Length Mean',\n",
      "       'ACK Flag Count', 'Avg Fwd Segment Size', 'Subflow Fwd Bytes',\n",
      "       'Init Fwd Win Bytes'],\n",
      "      dtype='object')\n"
     ]
    }
   ],
   "source": [
    "filter = sele.get_support(indices=True)\n",
    "new_features = data.columns[filter]\n",
    "print(new_features)"
   ]
  },
  {
   "cell_type": "code",
   "execution_count": 32,
   "id": "f7c6ab5a",
   "metadata": {},
   "outputs": [
    {
     "name": "stdout",
     "output_type": "stream",
     "text": [
      "Accuracy score:  0.9938336475751862\n",
      "F1 score:  0.9938608898779978\n",
      "Recall score :  0.9938336475751862\n",
      "Precision score: 0.9939806931691527\n"
     ]
    }
   ],
   "source": [
    "from sklearn import tree\n",
    "\n",
    "\n",
    "DT  =tree.DecisionTreeClassifier(random_state=101,\n",
    "                                 max_depth=21,\n",
    "                                 criterion=\"gini\")\n",
    "DT.fit(X_train, y_train)\n",
    "\n",
    "\n",
    "y_prediction_DT = DT.predict(X_test)\n",
    "\n",
    "\n",
    "accuracy_score_DT = accuracy_score(y_test, y_prediction_DT)\n",
    "print( \"Accuracy score: \" , accuracy_score_DT)\n",
    "\n",
    "f1_score_DT = f1_score(y_test,y_prediction_DT , average='weighted')\n",
    "print(f\"F1 score: \" ,f1_score_DT)\n",
    "\n",
    "recall_DT = recall_score(y_test, y_prediction_DT, average='weighted')\n",
    "print(\"Recall score : \" ,recall_DT )\n",
    "\n",
    "# Calculate and print the precision score\n",
    "precision_DT = precision_score(y_test,y_prediction_DT, average='weighted')\n",
    "print(\"Precision score:\",precision_DT)"
   ]
  },
  {
   "cell_type": "code",
   "execution_count": 33,
   "id": "7dc8b989",
   "metadata": {},
   "outputs": [
    {
     "data": {
      "text/plain": [
       "(0.9968391267218818,\n",
       " {'ccp_alpha': 0.001,\n",
       "  'criterion': 'entropy',\n",
       "  'max_depth': 21,\n",
       "  'max_features': 'auto'})"
      ]
     },
     "execution_count": 33,
     "metadata": {},
     "output_type": "execute_result"
    }
   ],
   "source": [
    "from sklearn.model_selection import GridSearchCV\n",
    "clf  =tree.DecisionTreeClassifier()\n",
    "clf.fit(select_X_train, y_train)\n",
    "param_grid = {'max_features': ['auto', 'sqrt', 'log2'],\n",
    "              'ccp_alpha': [0.1, .01, .001],\n",
    "              'max_depth' : [5, 6, 7, 8, 9,20,21,22,23,24,25,26,27,28,29,30,40],\n",
    "              'criterion' :['gini', 'entropy']\n",
    "             }\n",
    "#\n",
    "# Create gridsearch instance\n",
    "#\n",
    "grid = GridSearchCV(estimator=clf,\n",
    "                    param_grid=param_grid,\n",
    "                    cv=10,\n",
    "                    n_jobs=1,\n",
    "                    verbose=0)\n",
    "#\n",
    "# Fit the model\n",
    "#\n",
    "grid.fit(X_train, y_train)\n",
    "#\n",
    "# Assess the score\n",
    "#\n",
    "grid.best_score_, grid.best_params_\n"
   ]
  },
  {
   "cell_type": "code",
   "execution_count": 34,
   "id": "bf16b242",
   "metadata": {},
   "outputs": [
    {
     "name": "stderr",
     "output_type": "stream",
     "text": [
      "C:\\Users\\moode\\anaconda3\\lib\\site-packages\\xgboost\\sklearn.py:1421: UserWarning: `use_label_encoder` is deprecated in 1.7.0.\n",
      "  warnings.warn(\"`use_label_encoder` is deprecated in 1.7.0.\")\n"
     ]
    },
    {
     "name": "stdout",
     "output_type": "stream",
     "text": [
      "Accuracy score:  0.9935477390041109\n",
      "F1 score:  0.9935788179164439\n",
      "Recall score :  0.9935477390041109\n",
      "Precision score: 0.9937200899813553\n"
     ]
    }
   ],
   "source": [
    "from xgboost import XGBClassifier\n",
    "\n",
    "xgb = XGBClassifier(\n",
    "    n_estimators= 40,\n",
    "    use_label_encoder= False,\n",
    "    max_depth= 21,\n",
    "    booster= 'gbtree',\n",
    "    importance_type= 'gain',\n",
    "    objective='binary:logistic',\n",
    "    eval_metric='logloss',)\n",
    "\n",
    "xgb.fit(X_train, y_train)\n",
    "\n",
    "y_prediction_xgb = xgb.predict(X_test)\n",
    "\n",
    "\n",
    "accuracy_score_xgb = accuracy_score(y_test, y_prediction_xgb)\n",
    "print( \"Accuracy score: \" , accuracy_score_xgb)\n",
    "\n",
    "f1_score_xgb = f1_score(y_test,y_prediction_xgb , average='weighted')\n",
    "print(f\"F1 score: \" ,f1_score_xgb)\n",
    "\n",
    "recall_xgb = recall_score(y_test, y_prediction_xgb, average='weighted')\n",
    "print(\"Recall score : \" ,recall_xgb )\n",
    "\n",
    "# Calculate and print the precision score\n",
    "precision_xgb = precision_score(y_test,y_prediction_xgb, average='weighted')\n",
    "print(\"Precision score:\",precision_xgb)"
   ]
  },
  {
   "cell_type": "code",
   "execution_count": 35,
   "id": "bd0b43d4",
   "metadata": {
    "scrolled": true
   },
   "outputs": [
    {
     "name": "stderr",
     "output_type": "stream",
     "text": [
      "C:\\Users\\moode\\anaconda3\\lib\\site-packages\\sklearn\\linear_model\\_logistic.py:814: ConvergenceWarning: lbfgs failed to converge (status=2):\n",
      "ABNORMAL_TERMINATION_IN_LNSRCH.\n",
      "\n",
      "Increase the number of iterations (max_iter) or scale the data as shown in:\n",
      "    https://scikit-learn.org/stable/modules/preprocessing.html\n",
      "Please also refer to the documentation for alternative solver options:\n",
      "    https://scikit-learn.org/stable/modules/linear_model.html#logistic-regression\n",
      "  n_iter_i = _check_optimize_result(\n"
     ]
    },
    {
     "name": "stdout",
     "output_type": "stream",
     "text": [
      "Accuracy score:  0.7689395110190709\n",
      "F1 score:  0.7738662802342458\n",
      "Recall score: 0.7689395110190709\n",
      "Precision score: 0.7802487917591369\n"
     ]
    }
   ],
   "source": [
    "from sklearn.linear_model import LogisticRegression\n",
    "\n",
    "lg  = LogisticRegression( random_state=101, max_iter=100)\n",
    "lg.fit(X_train, y_train)\n",
    "\n",
    "\n",
    "y_prediction_lg = lg.predict(X_test)\n",
    "\n",
    "\n",
    "accuracy_lg = accuracy_score(y_test, y_prediction_lg)\n",
    "print(\"Accuracy score: \" ,accuracy_lg)\n",
    "\n",
    "\n",
    "f1_lg = f1_score(y_test, y_prediction_lg, average='weighted')\n",
    "print(\"F1 score: \" , f1_lg )\n",
    "\n",
    "recall_lg = recall_score(y_test,y_prediction_lg, average='weighted')\n",
    "print(\"Recall score:\" ,recall_lg)\n",
    "\n",
    "# Calculate and print the precision score\n",
    "precision_lg = precision_score(y_test,y_prediction_lg, average='weighted')\n",
    "print(f\"Precision score:\" , precision_lg)"
   ]
  },
  {
   "cell_type": "code",
   "execution_count": 36,
   "id": "aa7cc668",
   "metadata": {},
   "outputs": [
    {
     "name": "stdout",
     "output_type": "stream",
     "text": [
      "Learning rate set to 0.5\n",
      "0:\tlearn: 0.3182301\ttotal: 187ms\tremaining: 18.5s\n",
      "1:\tlearn: 0.1788687\ttotal: 208ms\tremaining: 10.2s\n",
      "2:\tlearn: 0.1071769\ttotal: 227ms\tremaining: 7.35s\n",
      "3:\tlearn: 0.0682940\ttotal: 246ms\tremaining: 5.91s\n",
      "4:\tlearn: 0.0459197\ttotal: 266ms\tremaining: 5.05s\n",
      "5:\tlearn: 0.0318123\ttotal: 285ms\tremaining: 4.47s\n",
      "6:\tlearn: 0.0241600\ttotal: 304ms\tremaining: 4.04s\n",
      "7:\tlearn: 0.0178675\ttotal: 322ms\tremaining: 3.71s\n",
      "8:\tlearn: 0.0146874\ttotal: 343ms\tremaining: 3.47s\n",
      "9:\tlearn: 0.0119905\ttotal: 361ms\tremaining: 3.25s\n",
      "10:\tlearn: 0.0099325\ttotal: 386ms\tremaining: 3.12s\n",
      "11:\tlearn: 0.0094060\ttotal: 408ms\tremaining: 2.99s\n",
      "12:\tlearn: 0.0088343\ttotal: 425ms\tremaining: 2.84s\n",
      "13:\tlearn: 0.0086999\ttotal: 442ms\tremaining: 2.71s\n",
      "14:\tlearn: 0.0085158\ttotal: 458ms\tremaining: 2.6s\n",
      "15:\tlearn: 0.0084311\ttotal: 475ms\tremaining: 2.49s\n",
      "16:\tlearn: 0.0080948\ttotal: 493ms\tremaining: 2.41s\n",
      "17:\tlearn: 0.0080161\ttotal: 511ms\tremaining: 2.33s\n",
      "18:\tlearn: 0.0079861\ttotal: 528ms\tremaining: 2.25s\n",
      "19:\tlearn: 0.0079844\ttotal: 543ms\tremaining: 2.17s\n",
      "20:\tlearn: 0.0078760\ttotal: 560ms\tremaining: 2.11s\n",
      "21:\tlearn: 0.0077711\ttotal: 578ms\tremaining: 2.05s\n",
      "22:\tlearn: 0.0076750\ttotal: 602ms\tremaining: 2.02s\n",
      "23:\tlearn: 0.0076657\ttotal: 621ms\tremaining: 1.97s\n",
      "24:\tlearn: 0.0076650\ttotal: 643ms\tremaining: 1.93s\n",
      "25:\tlearn: 0.0072825\ttotal: 662ms\tremaining: 1.89s\n",
      "26:\tlearn: 0.0070181\ttotal: 682ms\tremaining: 1.84s\n",
      "27:\tlearn: 0.0066496\ttotal: 699ms\tremaining: 1.8s\n",
      "28:\tlearn: 0.0064847\ttotal: 717ms\tremaining: 1.75s\n",
      "29:\tlearn: 0.0064564\ttotal: 736ms\tremaining: 1.72s\n",
      "30:\tlearn: 0.0064466\ttotal: 753ms\tremaining: 1.68s\n",
      "31:\tlearn: 0.0062912\ttotal: 771ms\tremaining: 1.64s\n",
      "32:\tlearn: 0.0060934\ttotal: 790ms\tremaining: 1.6s\n",
      "33:\tlearn: 0.0060852\ttotal: 810ms\tremaining: 1.57s\n",
      "34:\tlearn: 0.0060224\ttotal: 833ms\tremaining: 1.55s\n",
      "35:\tlearn: 0.0054266\ttotal: 852ms\tremaining: 1.51s\n",
      "36:\tlearn: 0.0053054\ttotal: 871ms\tremaining: 1.48s\n",
      "37:\tlearn: 0.0052986\ttotal: 890ms\tremaining: 1.45s\n",
      "38:\tlearn: 0.0051666\ttotal: 907ms\tremaining: 1.42s\n",
      "39:\tlearn: 0.0050128\ttotal: 925ms\tremaining: 1.39s\n",
      "40:\tlearn: 0.0049680\ttotal: 943ms\tremaining: 1.36s\n",
      "41:\tlearn: 0.0049567\ttotal: 966ms\tremaining: 1.33s\n",
      "42:\tlearn: 0.0049290\ttotal: 988ms\tremaining: 1.31s\n",
      "43:\tlearn: 0.0048254\ttotal: 1.03s\tremaining: 1.31s\n",
      "44:\tlearn: 0.0046653\ttotal: 1.05s\tremaining: 1.28s\n",
      "45:\tlearn: 0.0046647\ttotal: 1.06s\tremaining: 1.25s\n",
      "46:\tlearn: 0.0046645\ttotal: 1.08s\tremaining: 1.21s\n",
      "47:\tlearn: 0.0046642\ttotal: 1.09s\tremaining: 1.18s\n",
      "48:\tlearn: 0.0046641\ttotal: 1.1s\tremaining: 1.15s\n",
      "49:\tlearn: 0.0046640\ttotal: 1.12s\tremaining: 1.12s\n",
      "50:\tlearn: 0.0046154\ttotal: 1.14s\tremaining: 1.09s\n",
      "51:\tlearn: 0.0044434\ttotal: 1.15s\tremaining: 1.06s\n",
      "52:\tlearn: 0.0044049\ttotal: 1.17s\tremaining: 1.04s\n",
      "53:\tlearn: 0.0043420\ttotal: 1.19s\tremaining: 1.01s\n",
      "54:\tlearn: 0.0043421\ttotal: 1.2s\tremaining: 982ms\n",
      "55:\tlearn: 0.0043420\ttotal: 1.21s\tremaining: 954ms\n",
      "56:\tlearn: 0.0043420\ttotal: 1.23s\tremaining: 927ms\n",
      "57:\tlearn: 0.0043420\ttotal: 1.25s\tremaining: 904ms\n",
      "58:\tlearn: 0.0042554\ttotal: 1.27s\tremaining: 882ms\n",
      "59:\tlearn: 0.0042553\ttotal: 1.28s\tremaining: 855ms\n",
      "60:\tlearn: 0.0040373\ttotal: 1.3s\tremaining: 833ms\n",
      "61:\tlearn: 0.0040163\ttotal: 1.32s\tremaining: 811ms\n",
      "62:\tlearn: 0.0040091\ttotal: 1.34s\tremaining: 787ms\n",
      "63:\tlearn: 0.0039166\ttotal: 1.36s\tremaining: 765ms\n",
      "64:\tlearn: 0.0038746\ttotal: 1.38s\tremaining: 742ms\n",
      "65:\tlearn: 0.0038264\ttotal: 1.4s\tremaining: 719ms\n",
      "66:\tlearn: 0.0038035\ttotal: 1.42s\tremaining: 697ms\n",
      "67:\tlearn: 0.0037987\ttotal: 1.43s\tremaining: 675ms\n",
      "68:\tlearn: 0.0037298\ttotal: 1.46s\tremaining: 655ms\n",
      "69:\tlearn: 0.0037267\ttotal: 1.48s\tremaining: 634ms\n",
      "70:\tlearn: 0.0037116\ttotal: 1.5s\tremaining: 612ms\n",
      "71:\tlearn: 0.0036995\ttotal: 1.52s\tremaining: 590ms\n",
      "72:\tlearn: 0.0036607\ttotal: 1.53s\tremaining: 567ms\n",
      "73:\tlearn: 0.0036226\ttotal: 1.55s\tremaining: 545ms\n",
      "74:\tlearn: 0.0036093\ttotal: 1.57s\tremaining: 523ms\n",
      "75:\tlearn: 0.0035961\ttotal: 1.59s\tremaining: 501ms\n",
      "76:\tlearn: 0.0035262\ttotal: 1.61s\tremaining: 480ms\n",
      "77:\tlearn: 0.0034303\ttotal: 1.63s\tremaining: 459ms\n",
      "78:\tlearn: 0.0033268\ttotal: 1.65s\tremaining: 437ms\n",
      "79:\tlearn: 0.0032795\ttotal: 1.67s\tremaining: 417ms\n",
      "80:\tlearn: 0.0032145\ttotal: 1.69s\tremaining: 396ms\n",
      "81:\tlearn: 0.0031826\ttotal: 1.71s\tremaining: 375ms\n",
      "82:\tlearn: 0.0031801\ttotal: 1.73s\tremaining: 354ms\n",
      "83:\tlearn: 0.0031754\ttotal: 1.74s\tremaining: 332ms\n",
      "84:\tlearn: 0.0031744\ttotal: 1.76s\tremaining: 311ms\n",
      "85:\tlearn: 0.0031438\ttotal: 1.78s\tremaining: 290ms\n",
      "86:\tlearn: 0.0031373\ttotal: 1.79s\tremaining: 268ms\n",
      "87:\tlearn: 0.0030793\ttotal: 1.81s\tremaining: 247ms\n",
      "88:\tlearn: 0.0030756\ttotal: 1.83s\tremaining: 226ms\n",
      "89:\tlearn: 0.0030588\ttotal: 1.85s\tremaining: 206ms\n",
      "90:\tlearn: 0.0029717\ttotal: 1.88s\tremaining: 185ms\n",
      "91:\tlearn: 0.0029701\ttotal: 1.89s\tremaining: 165ms\n",
      "92:\tlearn: 0.0029699\ttotal: 1.91s\tremaining: 144ms\n",
      "93:\tlearn: 0.0029696\ttotal: 1.92s\tremaining: 123ms\n",
      "94:\tlearn: 0.0029695\ttotal: 1.94s\tremaining: 102ms\n",
      "95:\tlearn: 0.0029676\ttotal: 1.95s\tremaining: 81.4ms\n",
      "96:\tlearn: 0.0029675\ttotal: 1.97s\tremaining: 60.9ms\n",
      "97:\tlearn: 0.0029666\ttotal: 1.99s\tremaining: 40.5ms\n",
      "98:\tlearn: 0.0029665\ttotal: 2s\tremaining: 20.2ms\n",
      "99:\tlearn: 0.0029665\ttotal: 2.01s\tremaining: 0us\n",
      "Accuracy score: 0.9931613760702254\n",
      "F1 score:  0.9931962863299519\n",
      "Recall score: 0.9931613760702254\n",
      "Precision score:  0.9933550605180254\n"
     ]
    }
   ],
   "source": [
    "from catboost import CatBoostClassifier\n",
    "\n",
    "catboost = CatBoostClassifier( iterations=100, depth=6,  \n",
    "                                 random_state=101 ,verbose=1)\n",
    "catboost.fit(X_train, y_train)\n",
    "\n",
    "\n",
    "# Make predictions on the testing data\n",
    "y_prediction_catboost = catboost.predict(X_test)\n",
    "\n",
    "# Calculate and print the accuracy score\n",
    "accuracy_catboost = accuracy_score(y_test, y_prediction_catboost)\n",
    "print(\"Accuracy score:\" ,accuracy_catboost)\n",
    "\n",
    "# Calculate and print the f1 score\n",
    "f1_catboost = f1_score(y_test, y_prediction_catboost , average='weighted')\n",
    "print(\"F1 score: \",f1_catboost)\n",
    "recall_catboost = recall_score(y_test,y_prediction_catboost , average='weighted')\n",
    "print(\"Recall score:\",recall_catboost)\n",
    "\n",
    "# Calculate and print the precision score\n",
    "precision_catboost = precision_score(y_test,y_prediction_catboost, average='weighted')\n",
    "print(\"Precision score: \",precision_catboost)"
   ]
  },
  {
   "cell_type": "code",
   "execution_count": 37,
   "id": "d776b4b7",
   "metadata": {},
   "outputs": [
    {
     "name": "stdout",
     "output_type": "stream",
     "text": [
      "Accuracy score:  0.6217352332086669\n",
      "F1 score: 0.6138291990729172\n",
      "Recall score:  0.6217352332086669\n",
      "Precision score:  0.6063893528867589\n"
     ]
    }
   ],
   "source": [
    "from sklearn.naive_bayes import GaussianNB\n",
    "\n",
    "gnb = GaussianNB()\n",
    "gnb.fit(X_train, y_train)\n",
    "\n",
    "y_prediction_gnb = gnb.predict(X_test)\n",
    "\n",
    "accuracy_gnb = accuracy_score(y_test,y_prediction_gnb)\n",
    "print(\"Accuracy score: \",accuracy_gnb)\n",
    "\n",
    "f1_gnb = f1_score(y_test,y_prediction_gnb , average='weighted')\n",
    "print(\"F1 score:\",f1_gnb)\n",
    "recall_gnb = recall_score(y_test, y_prediction_gnb, average='weighted')\n",
    "print(\"Recall score: \" ,recall_gnb)\n",
    "\n",
    "precision_gnb = precision_score(y_test, y_prediction_gnb, average='weighted')\n",
    "print(\"Precision score: \",precision_gnb)"
   ]
  },
  {
   "cell_type": "code",
   "execution_count": 38,
   "id": "35a2dddc",
   "metadata": {},
   "outputs": [
    {
     "name": "stdout",
     "output_type": "stream",
     "text": [
      "Accuracy score:  0.9069019874509319\n",
      "F1 score:  0.9113279614361518\n",
      "Recall score:  0.9069019874509319\n",
      "Precision score: 0.9285692363059255\n"
     ]
    }
   ],
   "source": [
    "from sklearn.ensemble import GradientBoostingClassifier\n",
    "\n",
    "gbc = GradientBoostingClassifier(n_estimators=30, learning_rate=1.0,\n",
    "    max_depth=3, random_state=42).fit(X_train, y_train)\n",
    "\n",
    "y_predec_gbc =gbc.predict(X_test)\n",
    "\n",
    "\n",
    "accuracy_gbc  = accuracy_score(y_test, y_predec_gbc)\n",
    "print(f\"Accuracy score: \",accuracy_gbc)\n",
    "\n",
    "\n",
    "f1_gbc = f1_score(y_test, y_predec_gbc, average='weighted')\n",
    "print(\"F1 score: \",f1_gbc)\n",
    "recall_gbc = recall_score(y_test, y_predec_gbc, average='weighted')\n",
    "print(\"Recall score: \",recall_gbc)\n",
    "\n",
    "\n",
    "precision_gbc = precision_score(y_test, y_predec_gbc, average='weighted')\n",
    "print(f\"Precision score: {precision_gbc}\")"
   ]
  },
  {
   "cell_type": "code",
   "execution_count": 39,
   "id": "bc751d0e",
   "metadata": {},
   "outputs": [
    {
     "name": "stderr",
     "output_type": "stream",
     "text": [
      "C:\\Users\\moode\\anaconda3\\lib\\site-packages\\sklearn\\neighbors\\_classification.py:228: FutureWarning: Unlike other reduction functions (e.g. `skew`, `kurtosis`), the default behavior of `mode` typically preserves the axis it acts along. In SciPy 1.11.0, this behavior will change: the default value of `keepdims` will become False, the `axis` over which the statistic is taken will be eliminated, and the value None will no longer be accepted. Set `keepdims` to True or False to avoid this warning.\n",
      "  mode, _ = stats.mode(_y[neigh_ind, k], axis=1)\n"
     ]
    },
    {
     "name": "stdout",
     "output_type": "stream",
     "text": [
      "Accuracy score: 0.7882112941612833\n",
      "F1 score:  0.8049502441436598\n",
      "Recall score: 0.7882112941612833\n",
      "Precision score 0.8843143589460934\n"
     ]
    }
   ],
   "source": [
    "from sklearn.neighbors import KNeighborsClassifier\n",
    "knn = KNeighborsClassifier(n_neighbors=5)\n",
    "# Fit the model to the training data\n",
    "knn.fit(X_train, y_train)\n",
    "\n",
    "\n",
    "y_predec_knn = knn.predict(X_test)\n",
    "\n",
    "# Calculate and print the accuracy score\n",
    "accuracy_knn = accuracy_score(y_test, y_predec_knn )\n",
    "print(\"Accuracy score:\" ,accuracy_knn )\n",
    "\n",
    "# Calculate and print the f1 score\n",
    "knn_f1_score = f1_score(y_test,y_predec_knn , average='weighted')\n",
    "print(\"F1 score: \",knn_f1_score)\n",
    "knn_recall = recall_score(y_test,y_predec_knn , average='weighted')\n",
    "print(\"Recall score:\" ,knn_recall)\n",
    "\n",
    "# Calculate and print the precision score\n",
    "knn_precision = precision_score(y_test,y_predec_knn , average='weighted')\n",
    "print(\"Precision score\",knn_precision)"
   ]
  },
  {
   "cell_type": "code",
   "execution_count": 40,
   "id": "7be12c7d",
   "metadata": {},
   "outputs": [
    {
     "data": {
      "text/plain": [
       "'\\nfrom sklearn.ensemble import ExtraTreesClassifier\\n\\nETC = ExtraTreesClassifier(n_estimators=21, random_state=42)\\nETC.fit(X_train, y_train)\\n\\ny_predec_ETC = knn.predict(X_test)\\n\\nETC_accuracy = accuracy_score(y_test, y_predec_ETC )\\nprint(\"Accuracy score:\" ,ETC_accuracy  )\\n\\n\\nETC_f1_score = f1_score(y_test,y_predec_ETC , average=\\'weighted\\')\\nprint(\"F1 score: \",ETC_f1_score)\\nETC_recall = recall_score(y_test,y_predec_ETC , average=\\'weighted\\')\\nprint(\"Recall score:\" ,ETC_recall)\\n\\n# Calculate and print the precision score\\nETC_precision = precision_score(y_test,y_predec_ETC , average=\\'weighted\\')\\nprint(\"Precision score\",ETC_precision)\\n'"
      ]
     },
     "execution_count": 40,
     "metadata": {},
     "output_type": "execute_result"
    }
   ],
   "source": [
    "\"\"\"\n",
    "from sklearn.ensemble import ExtraTreesClassifier\n",
    "\n",
    "ETC = ExtraTreesClassifier(n_estimators=21, random_state=42)\n",
    "ETC.fit(X_train, y_train)\n",
    "\n",
    "y_predec_ETC = knn.predict(X_test)\n",
    "\n",
    "ETC_accuracy = accuracy_score(y_test, y_predec_ETC )\n",
    "print(\"Accuracy score:\" ,ETC_accuracy  )\n",
    "\n",
    "\n",
    "ETC_f1_score = f1_score(y_test,y_predec_ETC , average='weighted')\n",
    "print(\"F1 score: \",ETC_f1_score)\n",
    "ETC_recall = recall_score(y_test,y_predec_ETC , average='weighted')\n",
    "print(\"Recall score:\" ,ETC_recall)\n",
    "\n",
    "# Calculate and print the precision score\n",
    "ETC_precision = precision_score(y_test,y_predec_ETC , average='weighted')\n",
    "print(\"Precision score\",ETC_precision)\n",
    "\"\"\""
   ]
  },
  {
   "cell_type": "code",
   "execution_count": null,
   "id": "e65260aa",
   "metadata": {},
   "outputs": [],
   "source": []
  },
  {
   "cell_type": "code",
   "execution_count": 41,
   "id": "6a6d6859",
   "metadata": {},
   "outputs": [
    {
     "name": "stdout",
     "output_type": "stream",
     "text": [
      "Accuracy score:  0.9955568262603159\n",
      "F1 score: 0.9955627591955082\n",
      "Recall score: 0.9955568262603159\n",
      "Precision score: 0.995577046750795\n"
     ]
    }
   ],
   "source": [
    "from sklearn.ensemble import AdaBoostClassifier\n",
    "adaboost = AdaBoostClassifier(n_estimators=21, random_state=42)\n",
    "adaboost.fit(X_train,y_train), \n",
    "\n",
    "\n",
    "y_predec_adaboost = adaboost.predict(X_test)\n",
    "\n",
    "\n",
    "adaboost_accuracy = accuracy_score(y_test, y_predec_adaboost)\n",
    "print(\"Accuracy score: \",adaboost_accuracy)\n",
    "\n",
    "\n",
    "adaboost_f1_score = f1_score(y_test, y_predec_adaboost, average='weighted')\n",
    "print(\"F1 score:\",adaboost_f1_score)\n",
    "\n",
    "adaboost_recall = recall_score(y_test, y_predec_adaboost, average='weighted')\n",
    "print(\"Recall score:\",adaboost_recall)\n",
    "\n",
    "# Calculate and print the precision score\n",
    "adaboost_precision= precision_score(y_test, y_predec_adaboost, average='weighted')\n",
    "print(\"Precision score:\",adaboost_precision)"
   ]
  },
  {
   "cell_type": "code",
   "execution_count": 42,
   "id": "b117b2f0",
   "metadata": {},
   "outputs": [
    {
     "name": "stdout",
     "output_type": "stream",
     "text": [
      "Accuracy score:  0.7737381386579297\n",
      "F1 score: 0.9955627591955082\n",
      "Recall score: 0.7737381386579297\n",
      "Precision score: 0.8249555232147054\n"
     ]
    }
   ],
   "source": [
    "from sklearn import svm\n",
    "\n",
    "svc = svm.SVC()\n",
    "svc.fit(X_train, y_train)\n",
    "\n",
    "y_predec_svc =svc.predict(X_test)\n",
    "\n",
    "\n",
    "svc_accuracy = accuracy_score(y_test, y_predec_svc)\n",
    "print(\"Accuracy score: \",svc_accuracy)\n",
    "\n",
    "\n",
    "svc_f1_score = f1_score(y_test, y_predec_svc, average='weighted')\n",
    "print(\"F1 score:\",adaboost_f1_score)\n",
    "\n",
    "svc_recall = recall_score(y_test, y_predec_svc, average='weighted')\n",
    "print(\"Recall score:\",svc_recall)\n",
    "\n",
    "# Calculate and print the precision score\n",
    "svc_precision= precision_score(y_test, y_predec_svc, average='weighted')\n",
    "print(\"Precision score:\",svc_precision)"
   ]
  },
  {
   "cell_type": "code",
   "execution_count": 43,
   "id": "d6e82a03",
   "metadata": {},
   "outputs": [
    {
     "name": "stderr",
     "output_type": "stream",
     "text": [
      "C:\\Users\\moode\\anaconda3\\lib\\site-packages\\sklearn\\neighbors\\_classification.py:228: FutureWarning: Unlike other reduction functions (e.g. `skew`, `kurtosis`), the default behavior of `mode` typically preserves the axis it acts along. In SciPy 1.11.0, this behavior will change: the default value of `keepdims` will become False, the `axis` over which the statistic is taken will be eliminated, and the value None will no longer be accepted. Set `keepdims` to True or False to avoid this warning.\n",
      "  mode, _ = stats.mode(_y[neigh_ind, k], axis=1)\n"
     ]
    },
    {
     "name": "stdout",
     "output_type": "stream",
     "text": [
      "Accuracy score: 0.7882112941612833\n",
      "F1 score:  0.8049502441436598\n",
      "Recall score: 0.7882112941612833\n",
      "Precision score 0.8843143589460934\n"
     ]
    }
   ],
   "source": [
    "from sklearn.ensemble import ExtraTreesClassifier\n",
    "\n",
    "ETC = ExtraTreesClassifier(n_estimators=10, random_state=42)\n",
    "ETC.fit(X_train, y_train)\n",
    "\n",
    "y_predec_ETC = knn.predict(X_test)\n",
    "\n",
    "ETC_accuracy = accuracy_score(y_test, y_predec_ETC )\n",
    "print(\"Accuracy score:\" ,ETC_accuracy  )\n",
    "\n",
    "\n",
    "ETC_f1_score = f1_score(y_test,y_predec_ETC , average='weighted')\n",
    "print(\"F1 score: \",ETC_f1_score)\n",
    "ETC_recall = recall_score(y_test,y_predec_ETC , average='weighted')\n",
    "print(\"Recall score:\" ,ETC_recall)\n",
    "\n",
    "# Calculate and print the precision score\n",
    "ETC_precision = precision_score(y_test,y_predec_ETC , average='weighted')\n",
    "print(\"Precision score\",ETC_precision)"
   ]
  },
  {
   "cell_type": "code",
   "execution_count": null,
   "id": "d08a0aed",
   "metadata": {},
   "outputs": [],
   "source": []
  }
 ],
 "metadata": {
  "kernelspec": {
   "display_name": "Python 3 (ipykernel)",
   "language": "python",
   "name": "python3"
  },
  "language_info": {
   "codemirror_mode": {
    "name": "ipython",
    "version": 3
   },
   "file_extension": ".py",
   "mimetype": "text/x-python",
   "name": "python",
   "nbconvert_exporter": "python",
   "pygments_lexer": "ipython3",
   "version": "3.9.13"
  }
 },
 "nbformat": 4,
 "nbformat_minor": 5
}
